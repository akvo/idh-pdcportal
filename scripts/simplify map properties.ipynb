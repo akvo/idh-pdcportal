{
 "cells": [
  {
   "cell_type": "code",
   "execution_count": 1,
   "metadata": {},
   "outputs": [],
   "source": [
    "import json"
   ]
  },
  {
   "cell_type": "code",
   "execution_count": 2,
   "metadata": {},
   "outputs": [],
   "source": [
    "# maps = [\"uganda\", \"honduras\", \"mexico\", \"rwanda\", \"nigeria\", \"ghana\"]\n",
    "maps = [\"ethiopia\"]"
   ]
  },
  {
   "cell_type": "code",
   "execution_count": 3,
   "metadata": {},
   "outputs": [],
   "source": [
    "for name in maps:\n",
    "    file = open(f\"./data/{name}.json\")\n",
    "    data = json.load(file)\n",
    "    \n",
    "    data['name'] = name\n",
    "    \n",
    "    obj_name = 'NAME_1'\n",
    "    obj_gid = 'GID_1'\n",
    "    if name.lower() == 'zambia':\n",
    "        obj_name = 'NAME_2'\n",
    "        obj_gid = 'GID_2'\n",
    "    if name.lower() == 'ethiopia':\n",
    "        obj_name = 'NAME_3'\n",
    "        obj_gid = 'GID_3'\n",
    "        \n",
    "    features = []\n",
    "    for item in data['features']:\n",
    "        item['properties'] = {\n",
    "            \"name\": item['properties'][obj_name],\n",
    "            \"cd\": item['properties'][obj_gid]\n",
    "        }\n",
    "        features.append(item)\n",
    "    data['features'] = features\n",
    "    \n",
    "    file.close()\n",
    "    # Serializing json \n",
    "    json_object = json.dumps(data, indent = 2)\n",
    "    \n",
    "    # Writing to sample.json\n",
    "    with open(f\"./result/{name}.json\", \"w\") as outfile:\n",
    "        outfile.write(json_object)"
   ]
  },
  {
   "cell_type": "code",
   "execution_count": 4,
   "metadata": {},
   "outputs": [
    {
     "data": {
      "text/plain": [
       "'\\nfor name in maps:\\n    file = open(f\"./mapshapper_simplify/{name}.json\")\\n    data = json.load(file)\\n    data[\\'name\\'] = name\\n    file.close()\\n    # Serializing json \\n    json_object = json.dumps(data, indent = 2)\\n    # Writing to sample.json\\n    with open(f\"./result/{name}.json\", \"w\") as outfile:\\n        outfile.write(json_object)\\n'"
      ]
     },
     "execution_count": 4,
     "metadata": {},
     "output_type": "execute_result"
    }
   ],
   "source": [
    "# OLD\n",
    "'''\n",
    "for name in maps:\n",
    "    file = open(f\"./mapshapper_simplify/{name}.json\")\n",
    "    data = json.load(file)\n",
    "    data['name'] = name\n",
    "    file.close()\n",
    "    # Serializing json \n",
    "    json_object = json.dumps(data, indent = 2)\n",
    "    # Writing to sample.json\n",
    "    with open(f\"./result/{name}.json\", \"w\") as outfile:\n",
    "        outfile.write(json_object)\n",
    "'''"
   ]
  },
  {
   "cell_type": "code",
   "execution_count": null,
   "metadata": {},
   "outputs": [],
   "source": []
  }
 ],
 "metadata": {
  "kernelspec": {
   "display_name": "Python 3 (ipykernel)",
   "language": "python",
   "name": "python3"
  },
  "language_info": {
   "codemirror_mode": {
    "name": "ipython",
    "version": 3
   },
   "file_extension": ".py",
   "mimetype": "text/x-python",
   "name": "python",
   "nbconvert_exporter": "python",
   "pygments_lexer": "ipython3",
   "version": "3.10.12"
  }
 },
 "nbformat": 4,
 "nbformat_minor": 4
}
